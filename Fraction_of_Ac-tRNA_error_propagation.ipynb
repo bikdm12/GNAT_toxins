{
 "cells": [
  {
   "cell_type": "code",
   "execution_count": 1,
   "metadata": {},
   "outputs": [],
   "source": [
    "import numpy as np\n",
    "import pandas as pd\n",
    "import uncertainties as unc\n",
    "from uncertainties import unumpy"
   ]
  },
  {
   "cell_type": "code",
   "execution_count": 2,
   "metadata": {},
   "outputs": [],
   "source": [
    "toxins = ['TacT3', 'AtaT', 'AtaT2', 'ItaT']\n",
    "columns = ['aa'] + ['%s_Fmoc/Ac_%s' % (x, y) for x in toxins for y in ['Mean', 'SD']]"
   ]
  },
  {
   "cell_type": "code",
   "execution_count": 3,
   "metadata": {},
   "outputs": [],
   "source": [
    "data_rrf = pd.read_excel('LC-MS_standart protocol.xlsx', sheet_name='Control_45_min', index_col=0, usecols=['aa', 'RRF_Mean', 'RRF_SD'])\n",
    "data_5 = pd.read_excel('LC-MS_standart protocol.xlsx', sheet_name='Toxins_5_min', index_col=0, usecols=columns)\n",
    "data_45 = pd.read_excel('LC-MS_standart protocol.xlsx', sheet_name='Toxins_45_min', index_col=0, usecols=columns)"
   ]
  },
  {
   "cell_type": "code",
   "execution_count": 4,
   "metadata": {},
   "outputs": [],
   "source": [
    "rrf = unumpy.uarray(data_rrf['RRF_Mean'], data_rrf['RRF_SD'])\n",
    "blank_df = pd.DataFrame(index=data_5.index)\n",
    "frac_of_ac = {'5': {'Mean' : blank_df.copy(), 'SD' : blank_df.copy()}, '45': {'Mean' : blank_df.copy(), 'SD' : blank_df.copy()}}\n",
    "for toxin in toxins:\n",
    "    fmoc_ac_ratio_5 = unumpy.uarray(data_5['%s_Fmoc/Ac_Mean' % toxin], data_5['%s_Fmoc/Ac_SD' % toxin])\n",
    "    fmoc_ac_ratio_45 = unumpy.uarray(data_45['%s_Fmoc/Ac_Mean' % toxin], data_45['%s_Fmoc/Ac_SD' % toxin])\n",
    "    frac_of_ac_5 = 1/(1+rrf*fmoc_ac_ratio_5)\n",
    "    frac_of_ac_45 = 1/(1+rrf*fmoc_ac_ratio_45)\n",
    "    frac_of_ac['5']['Mean'][toxin] = unumpy.nominal_values(frac_of_ac_5)\n",
    "    frac_of_ac['5']['SD'][toxin] = unumpy.std_devs(frac_of_ac_5)\n",
    "    frac_of_ac['45']['Mean'][toxin] = unumpy.nominal_values(frac_of_ac_45)\n",
    "    frac_of_ac['45']['SD'][toxin] = unumpy.std_devs(frac_of_ac_45)\n",
    "frac_of_ac['5']['Mean'] = frac_of_ac['5']['Mean'].replace(1,0)\n",
    "frac_of_ac['5']['SD'] = frac_of_ac['5']['SD'].replace(1,0)\n",
    "frac_of_ac['45']['Mean'] = frac_of_ac['45']['Mean'].replace(1,0)\n",
    "frac_of_ac['45']['SD'] = frac_of_ac['45']['SD'].replace(1,0)"
   ]
  },
  {
   "cell_type": "code",
   "execution_count": 5,
   "metadata": {},
   "outputs": [],
   "source": [
    "with pd.ExcelWriter('fraction_of_acetylated_aa-tRNA.xlsx') as writer:\n",
    "    for x in frac_of_ac:\n",
    "        for y in frac_of_ac[x]:\n",
    "            frac_of_ac[x][y].to_excel(writer, sheet_name='%s min %s' % (x, y))"
   ]
  }
 ],
 "metadata": {
  "kernelspec": {
   "display_name": "Python 2",
   "language": "python",
   "name": "python2"
  },
  "language_info": {
   "codemirror_mode": {
    "name": "ipython",
    "version": 2
   },
   "file_extension": ".py",
   "mimetype": "text/x-python",
   "name": "python",
   "nbconvert_exporter": "python",
   "pygments_lexer": "ipython2",
   "version": "2.7.16"
  }
 },
 "nbformat": 4,
 "nbformat_minor": 2
}
